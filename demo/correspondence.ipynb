{
 "cells": [
  {
   "cell_type": "code",
   "execution_count": 164,
   "id": "69fd291c",
   "metadata": {},
   "outputs": [],
   "source": [
    "import cv2\n",
    "import numpy as np"
   ]
  },
  {
   "cell_type": "code",
   "execution_count": 165,
   "id": "b0d1b343",
   "metadata": {},
   "outputs": [],
   "source": [
    "pair = cv2.cvtColor(cv2.imread(\"sig_rabbit_pair_0000.exr\", cv2.IMREAD_UNCHANGED | cv2.IMREAD_ANYDEPTH), cv2.COLOR_BGR2RGB)\n",
    "ref = cv2.imread(\"sig_rabbit_shot_0000.exr\", cv2.IMREAD_UNCHANGED | cv2.IMREAD_ANYDEPTH)\n",
    "src = cv2.imread(\"sig_rabbit_shot_0001.exr\", cv2.IMREAD_UNCHANGED | cv2.IMREAD_ANYDEPTH)"
   ]
  },
  {
   "cell_type": "code",
   "execution_count": 166,
   "id": "e110a037",
   "metadata": {},
   "outputs": [
    {
     "data": {
      "text/plain": [
       "(-1.716232, 16.428417)"
      ]
     },
     "execution_count": 166,
     "metadata": {},
     "output_type": "execute_result"
    }
   ],
   "source": [
    "pair[:,:,:2].mean(), pair[:,:,:2].std()"
   ]
  },
  {
   "cell_type": "code",
   "execution_count": 167,
   "id": "0adb0d49",
   "metadata": {},
   "outputs": [],
   "source": [
    "h, w, nc = ref.shape\n",
    "assert src.shape == (h, w, nc), \"should be same size\""
   ]
  },
  {
   "cell_type": "code",
   "execution_count": 168,
   "id": "e86287f2",
   "metadata": {},
   "outputs": [
    {
     "name": "stdout",
     "output_type": "stream",
     "text": [
      "(270, 632) (286.796875, 563.25) [-68.75      16.796875   1.      ]\n",
      "(257, 670) (297.1875, 594.5) [-75.5     40.1875   1.    ]\n",
      "(188, 537) (128.46875, 444.5) [-92.5     -59.53125   1.     ]\n",
      "(408, 626) (439.265625, 509.875) [-116.125      31.265625    1.      ]\n",
      "(391, 536) (358.0625, 452.625) [-83.375  -32.9375   1.    ]\n",
      "(333, 615) (350.375, 503.375) [-111.625   17.375    1.   ]\n",
      "(445, 607) (461.078125, 490.1875) [-116.8125     16.078125    1.      ]\n",
      "(514, 623) (537.578125, 511.0) [-112.         23.578125    1.      ]\n",
      "(453, 668) (519.5625, 570.875) [-97.125   66.5625   1.    ]\n",
      "(372, 661) (429.28125, 559.0625) [-101.9375    57.28125    1.     ]\n",
      "(265, 659) (299.5625, 585.875) [-73.125   34.5625   1.    ]\n",
      "(313, 660) (360.53125, 562.25) [-97.75     47.53125   1.     ]\n",
      "(176, 548) (117.53125, 457.5625) [-90.4375  -58.46875   1.     ]\n",
      "(403, 689) (487.125, 608.3125) [-80.6875  84.125    1.    ]\n",
      "(332, 681) (399.875, 619.1875) [-61.8125  67.875    1.    ]\n"
     ]
    }
   ],
   "source": [
    "corr = np.zeros((2*h, w, nc))\n",
    "corr[:h,:,:] = ref\n",
    "corr[h:,:,:] = src\n",
    "\n",
    "N_SAMPLES = 15\n",
    "valid = np.where(pair[:,:,2] == 1)\n",
    "valid_n = len(valid[1])\n",
    "\n",
    "for _ in range(N_SAMPLES):\n",
    "    r = np.random.random()\n",
    "    g = np.random.random()\n",
    "    b = np.random.random()\n",
    "    \n",
    "    idx = np.random.randint(0, valid_n)\n",
    "    p = (valid[0][idx], valid[1][idx])\n",
    "        \n",
    "    info = pair[p]\n",
    "    if info[2] == 0:\n",
    "        continue\n",
    "    \n",
    "    corr = cv2.circle(corr, (p[1], p[0]), 5, (b,g,r), 2)\n",
    "    \n",
    "    # ------- y ------x ----\n",
    "    flow = (info[1], info[0])\n",
    "    src_p = (p[0] + flow[0], p[1] + flow[1])\n",
    "    if src_p[0] < 0 or src_p[0] >= h or src_p[1] < 0 or src_p[1] >= w:\n",
    "        continue\n",
    "    corr = cv2.circle(corr, (int(src_p[1]), int(src_p[0])+h), 5, (b,g,r), 2)\n",
    "    corr = cv2.line(corr, (p[1], p[0]), (int(src_p[1]), int(src_p[0])+h), (b,g,r), 2)\n",
    "    print(p, src_p, info)\n",
    "    \n",
    "cv2.imshow(\"x\", corr)\n",
    "cv2.waitKey()\n",
    "cv2.destroyAllWindows()"
   ]
  },
  {
   "cell_type": "code",
   "execution_count": 169,
   "id": "edd80c18",
   "metadata": {},
   "outputs": [],
   "source": [
    "# cv2.imwrite(\"rabbit_corr.png\",255*corr)"
   ]
  },
  {
   "cell_type": "code",
   "execution_count": null,
   "id": "7cf7e240",
   "metadata": {},
   "outputs": [],
   "source": []
  }
 ],
 "metadata": {
  "kernelspec": {
   "display_name": "Python 3 (ipykernel)",
   "language": "python",
   "name": "python3"
  },
  "language_info": {
   "codemirror_mode": {
    "name": "ipython",
    "version": 3
   },
   "file_extension": ".py",
   "mimetype": "text/x-python",
   "name": "python",
   "nbconvert_exporter": "python",
   "pygments_lexer": "ipython3",
   "version": "3.9.7"
  }
 },
 "nbformat": 4,
 "nbformat_minor": 5
}
